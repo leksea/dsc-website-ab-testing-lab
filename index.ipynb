{
 "cells": [
  {
   "cell_type": "markdown",
   "metadata": {},
   "source": [
    "# Website A/B Testing - Lab\n",
    "\n",
    "## Introduction\n",
    "\n",
    "In this lab, you'll get another chance to practice your skills at conducting a full A/B test analysis. It will also be a chance to practice your data exploration and processing skills! The scenario you'll be investigating is data collected from the homepage of a music app page for audacity.\n",
    "\n",
    "## Objectives\n",
    "\n",
    "You will be able to:\n",
    "* Analyze the data from a website A/B test to draw relevant conclusions\n",
    "* Explore and analyze web action data"
   ]
  },
  {
   "cell_type": "markdown",
   "metadata": {},
   "source": [
    "## Exploratory Analysis\n",
    "\n",
    "Start by loading in the dataset stored in the file 'homepage_actions.csv'. Then conduct an exploratory analysis to get familiar with the data."
   ]
  },
  {
   "cell_type": "markdown",
   "metadata": {},
   "source": [
    "> Hints:\n",
    "    * Start investigating the id column:\n",
    "        * How many viewers also clicked?\n",
    "        * Are there any anomalies with the data; did anyone click who didn't view?\n",
    "        * Is there any overlap between the control and experiment groups? \n",
    "            * If so, how do you plan to account for this in your experimental design?"
   ]
  },
  {
   "cell_type": "code",
   "execution_count": 51,
   "metadata": {},
   "outputs": [
    {
     "name": "stdout",
     "output_type": "stream",
     "text": [
      "Index(['timestamp', 'id', 'group', 'action'], dtype='object')\n",
      "['experiment' 'control']\n",
      "['view' 'click']\n",
      "Number of unique IDs: 6328\n",
      "Number of views: 6328\n",
      "Number of clicks: 1860\n",
      "Viewers that clicked: 1860\n",
      "Overlap between control and experiment group: 0\n"
     ]
    }
   ],
   "source": [
    "#Your code here\n",
    "import pandas as pd\n",
    "\n",
    "df = pd.read_csv('homepage_actions.csv')\n",
    "print(df.columns)\n",
    "\n",
    "print(df['group'].unique())\n",
    "print(df['action'].unique())\n",
    "print('Number of unique IDs:', len(df['id'].unique()))\n",
    "\n",
    "df_click = df[df['action'] == 'click']\n",
    "df_view = df[df['action'] == 'view']\n",
    "\n",
    "print('Number of views:', len(df_view))\n",
    "print('Number of clicks:', len(df_click))\n",
    "print('Viewers that clicked:', sum(df_view['id'].isin(df_click['id'])))\n",
    "\n",
    "\n",
    "df_control =  df[df['group'] == 'control']\n",
    "df_experiment =  df[df['group'] == 'experiment']\n",
    "set1 = set(df_control['id'])\n",
    "set2 = set(df_experiment['id'])\n",
    "overlapping_ids = set1.intersection(set2)\n",
    "\n",
    "print('Overlap between control and experiment group:', len(overlapping_ids))"
   ]
  },
  {
   "cell_type": "markdown",
   "metadata": {},
   "source": [
    "## Conduct a Statistical Test\n",
    "\n",
    "Conduct a statistical test to determine whether the experimental homepage was more effective than that of the control group."
   ]
  },
  {
   "cell_type": "code",
   "execution_count": 71,
   "metadata": {},
   "outputs": [
    {
     "name": "stdout",
     "output_type": "stream",
     "text": [
      "Sample sizes:\tControl: 3332\tExperiment: 2996\n",
      "Clicks:\tControl: 932.0\tExperiment: 928.0\n",
      "Mean clicks:\tControl: 0.2797118847539016\tExperiment: 0.3097463284379172\n",
      "Variance clicks:\tControl: 0.20147314628132165\tExperiment: 0.2138035404571471\n",
      "Levene's test statistic: 6.862145331711584\n",
      "p-value: 0.008825098914964904\n",
      "Variances are significantly different\n",
      "T-test statistic: 2.615440020788211\n",
      "p-value: 0.004466402814337101\n"
     ]
    }
   ],
   "source": [
    "import numpy as np\n",
    "from scipy.stats import levene\n",
    "\n",
    "\n",
    "control = df[df.group=='control'].pivot(index='id', columns='action', values='count')\n",
    "control = control.fillna(value=0)\n",
    "\n",
    "experiment = df[df.group=='experiment'].pivot(index='id', columns='action', values='count')\n",
    "experiment = experiment.fillna(value=0)\n",
    "\n",
    "\n",
    "print(\"Sample sizes:\\tControl: {}\\tExperiment: {}\".format(len(control), len(experiment)))\n",
    "print(\"Clicks:\\tControl: {}\\tExperiment: {}\".format(control.click.sum(), experiment.click.sum()))\n",
    "print(\"Mean clicks:\\tControl: {}\\tExperiment: {}\".format(control.click.mean(), experiment.click.mean()))\n",
    "print(\"Variance clicks:\\tControl: {}\\tExperiment: {}\".format(np.var(control.click), \\\n",
    "                                                            np.var(experiment.click)))\n",
    "\n",
    "# Perform Levene's test\n",
    "statistic, p_value = levene(control.click, experiment.click)\n",
    "\n",
    "# Print results\n",
    "print(\"Levene's test statistic:\", statistic)\n",
    "print(\"p-value:\", p_value)\n",
    "alpha = 0.05\n",
    "\n",
    "if p_value <= alpha:\n",
    "    print(\"Variances are significantly different\")\n",
    "else:\n",
    "    print(\"Variances are same\")\n",
    "    \n",
    "# We'll use independent T2 test\n",
    "# H0: Experimental homepage has the same effect as the control page  \n",
    "# H1: Experiemntal page is more engaging than the control page \n",
    "\n",
    "# Reject H0 if t>0 and p/2 < alpha\n",
    "\n",
    "from scipy.stats import ttest_ind\n",
    "\n",
    "# Perform t-test with unequal variances\n",
    "statistic, p_value = ttest_ind(experiment.click, control.click, equal_var=False)\n",
    "\n",
    "# Print results\n",
    "print(\"T-test statistic:\", statistic)\n",
    "print(\"p-value:\", p_value/2)\n"
   ]
  },
  {
   "cell_type": "markdown",
   "metadata": {},
   "source": [
    "## Verifying Results\n",
    "\n",
    "One sensible formulation of the data to answer the hypothesis test above would be to create a binary variable representing each individual in the experiment and control group. This binary variable would represent whether or not that individual clicked on the homepage; 1 for they did and 0 if they did not. \n",
    "\n",
    "The variance for the number of successes in a sample of a binomial variable with n observations is given by:\n",
    "\n",
    "## $n\\bullet p (1-p)$\n",
    "\n",
    "Given this, perform 3 steps to verify the results of your statistical test:\n",
    "1. Calculate the expected number of clicks for the experiment group, if it had the same click-through rate as that of the control group. \n",
    "2. Calculate the number of standard deviations that the actual number of clicks was from this estimate. \n",
    "3. Finally, calculate a p-value using the normal distribution based on this z-score."
   ]
  },
  {
   "cell_type": "markdown",
   "metadata": {},
   "source": [
    "### Step 1:\n",
    "Calculate the expected number of clicks for the experiment group, if it had the same click-through rate as that of the control group. "
   ]
  },
  {
   "cell_type": "code",
   "execution_count": 73,
   "metadata": {},
   "outputs": [
    {
     "name": "stdout",
     "output_type": "stream",
     "text": [
      "Expected numer of clicks for the experiment group: 838.0168067226891\n"
     ]
    }
   ],
   "source": [
    "control_click_rate = control.click.mean()\n",
    "expected_experiment_clicks = control_click_rate * len(experiment)\n",
    "print('Expected numer of clicks for the experiment group:', expected_experiment_clicks)"
   ]
  },
  {
   "cell_type": "markdown",
   "metadata": {},
   "source": [
    "### Step 2:\n",
    "Calculate the number of standard deviations that the actual number of clicks was from this estimate."
   ]
  },
  {
   "cell_type": "code",
   "execution_count": 85,
   "metadata": {},
   "outputs": [
    {
     "name": "stdout",
     "output_type": "stream",
     "text": [
      "Standard Deviation of a binomial distribution: 24.568547907005815\n",
      "Number of standard deviations between actual and expected clicks 3.6625360854823588\n"
     ]
    }
   ],
   "source": [
    "#Your code here\n",
    "n = len(experiment)\n",
    "p = control_click_rate\n",
    "var = n * p * (1-p)\n",
    "std = np.sqrt(var)\n",
    "print('Standard Deviation of a binomial distribution:', std)\n",
    "\n",
    "experiment_clicks = experiment.click.sum()\n",
    "z_score = (experiment_clicks - expected_experiment_clicks)/std\n",
    "print('Number of standard deviations between actual and expected clicks', z_score)"
   ]
  },
  {
   "cell_type": "markdown",
   "metadata": {},
   "source": [
    "### Step 3: \n",
    "Finally, calculate a p-value using the normal distribution based on this z-score."
   ]
  },
  {
   "cell_type": "code",
   "execution_count": 87,
   "metadata": {},
   "outputs": [
    {
     "name": "stdout",
     "output_type": "stream",
     "text": [
      "0.00012486528006951198\n",
      "35.769773726136464\n"
     ]
    }
   ],
   "source": [
    "import scipy.stats as stats\n",
    "p_val = stats.norm.sf(z_score) \n",
    "print(p_val)\n",
    "print((p_value/2)/p_val)\n"
   ]
  },
  {
   "cell_type": "markdown",
   "metadata": {},
   "source": [
    "### Analysis:\n",
    "\n",
    "Does this result roughly match that of the previous statistical test?\n",
    "\n",
    "> Comment: \n",
    "    We would reject the null hypothesis after either statistical test. \n",
    "    For the second test, the p-value is 35x smaller, meaning the chances of Type I error are much smaller and the effect size is bigger. \n",
    "    \n",
    "    "
   ]
  },
  {
   "cell_type": "markdown",
   "metadata": {},
   "source": [
    "## Summary\n",
    "\n",
    "In this lab, you continued to get more practice designing and conducting AB tests. This required additional work preprocessing and formulating the initial problem in a suitable manner. Additionally, you also saw how to verify results, strengthening your knowledge of binomial variables, and reviewing initial statistical concepts of the central limit theorem, standard deviation, z-scores, and their accompanying p-values."
   ]
  }
 ],
 "metadata": {
  "kernelspec": {
   "display_name": "Python 3",
   "language": "python",
   "name": "python3"
  },
  "language_info": {
   "codemirror_mode": {
    "name": "ipython",
    "version": 3
   },
   "file_extension": ".py",
   "mimetype": "text/x-python",
   "name": "python",
   "nbconvert_exporter": "python",
   "pygments_lexer": "ipython3",
   "version": "3.8.5"
  }
 },
 "nbformat": 4,
 "nbformat_minor": 2
}
